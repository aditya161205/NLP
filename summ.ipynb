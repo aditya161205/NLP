{
  "nbformat": 4,
  "nbformat_minor": 0,
  "metadata": {
    "colab": {
      "provenance": [],
      "gpuType": "T4",
      "authorship_tag": "ABX9TyO/8sxYKZde41YUgs3XQbT/",
      "include_colab_link": true
    },
    "kernelspec": {
      "name": "python3",
      "display_name": "Python 3"
    },
    "language_info": {
      "name": "python"
    },
    "accelerator": "GPU"
  },
  "cells": [
    {
      "cell_type": "markdown",
      "metadata": {
        "id": "view-in-github",
        "colab_type": "text"
      },
      "source": [
        "<a href=\"https://colab.research.google.com/github/aditya161205/NLP/blob/main/summ.ipynb\" target=\"_parent\"><img src=\"https://colab.research.google.com/assets/colab-badge.svg\" alt=\"Open In Colab\"/></a>"
      ]
    },
    {
      "cell_type": "code",
      "execution_count": 7,
      "metadata": {
        "colab": {
          "base_uri": "https://localhost:8080/"
        },
        "id": "ImXqDR0adt78",
        "outputId": "e4a80bfb-3727-4428-f881-1fe9e93a926d"
      },
      "outputs": [
        {
          "output_type": "stream",
          "name": "stdout",
          "text": [
            "🔑 Enter your Gemini API Key: ··········\n",
            "✅ Loaded 1 document(s) from https://en.wikipedia.org/wiki/Artificial_intelligence\n"
          ]
        }
      ],
      "source": [
        "\n",
        "!pip install -q langchain langchain-google-genai google-generativeai beautifulsoup4 requests langchain-community\n",
        "\n",
        "\n",
        "import getpass\n",
        "from langchain_google_genai import ChatGoogleGenerativeAI\n",
        "from langchain_community.document_loaders import WebBaseLoader\n",
        "from langchain.chains.summarize import load_summarize_chain\n",
        "\n",
        "\n",
        "import os\n",
        "\n",
        "os.environ[\"GOOGLE_API_KEY\"] = getpass.getpass(\"🔑 Enter your Gemini API Key: \")\n",
        "\n",
        "url = \"https://en.wikipedia.org/wiki/Artificial_intelligence\"\n",
        "\n",
        "loader = WebBaseLoader(url)\n",
        "docs = loader.load()\n",
        "\n",
        "print(f\"✅ Loaded {len(docs)} document(s) from {url}\")\n"
      ]
    },
    {
      "cell_type": "code",
      "source": [
        "\n",
        "llm = ChatGoogleGenerativeAI(model=\"gemini-2.5-flash\", temperature=0)\n",
        "\n",
        "summary_chain = load_summarize_chain(llm, chain_type=\"stuff\")\n",
        "\n",
        "summary = summary_chain.run(docs)\n",
        "\n",
        "print(\"📖 Summarized Text:\\n\")\n",
        "print(summary)"
      ],
      "metadata": {
        "colab": {
          "base_uri": "https://localhost:8080/"
        },
        "id": "jxxJ27GDe9fJ",
        "outputId": "c30d9ff3-d88e-4eb4-dbe3-d4ed485c0c7d"
      },
      "execution_count": 11,
      "outputs": [
        {
          "output_type": "stream",
          "name": "stdout",
          "text": [
            "📖 Summarized Text:\n",
            "\n",
            "Artificial intelligence (AI) is the capability of computational systems to perform tasks typically associated with human intelligence, such such as learning, reasoning, problem-solving, perception, and decision-making. As a field of computer science, it develops methods for machines to perceive environments and act to achieve defined goals.\n",
            "\n",
            "Key goals include knowledge representation, planning, natural language processing (NLP), and perception, achieved through techniques like search algorithms, formal logic, and especially artificial neural networks and deep learning, exemplified by large language models (LLMs) like GPT.\n",
            "\n",
            "AI applications are pervasive, found in web search, recommendation systems, autonomous vehicles, healthcare, games, finance, military, and generative AI (creating text, images, video).\n",
            "\n",
            "The rapid advancement of AI, particularly the recent 'AI boom' driven by generative AI, has raised significant ethical concerns. These include privacy, copyright, substantial power consumption and environmental impact, the spread of misinformation, algorithmic bias, lack of transparency, potential misuse by bad actors (e.g., autonomous weapons), technological unemployment, and long-term existential risks from superintelligence. Consequently, there's a growing focus on ethical frameworks and international regulation.\n",
            "\n",
            "Founded in 1956, AI has experienced periods of both optimism and 'AI winters,' with current philosophical discussions revolving around defining intelligence, machine consciousness, and the future implications of advanced AI.\n"
          ]
        }
      ]
    },
    {
      "cell_type": "code",
      "source": [
        "\n",
        "llm = ChatGoogleGenerativeAI(model=\"gemini-2.5-flash\", temperature=0.5)\n",
        "\n",
        "summary_chain = load_summarize_chain(llm, chain_type=\"stuff\")\n",
        "\n",
        "summary = summary_chain.run(docs)\n",
        "\n",
        "print(\"📖 Summarized Text:\\n\")\n",
        "print(summary)"
      ],
      "metadata": {
        "colab": {
          "base_uri": "https://localhost:8080/"
        },
        "id": "gbyhhN7JdyXc",
        "outputId": "a9f11e5a-9654-4baf-a961-4fc35a5fdbf9"
      },
      "execution_count": 8,
      "outputs": [
        {
          "output_type": "stream",
          "name": "stdout",
          "text": [
            "📖 Summarized Text:\n",
            "\n",
            "Artificial intelligence (AI) refers to computational systems designed to perform tasks typically associated with human intelligence, such as learning, reasoning, problem-solving, perception, and decision-making. The field, established in 1956, has experienced cycles of rapid progress and \"AI winters,\" with recent breakthroughs in deep learning and transformer architectures (like GPT models) leading to a significant \"generative AI boom\" in the 2020s.\n",
            "\n",
            "AI's goals include replicating human cognitive abilities, encompassing natural language processing, computer vision, planning, and learning, with artificial general intelligence (AGI) as an ultimate aim. It utilizes diverse techniques such as search algorithms, formal logic, probabilistic methods, and especially artificial neural networks and deep learning.\n",
            "\n",
            "Applications are extensive, spanning health, finance, military, games, and various industries, with generative AI (for text, images, and video) being a prominent recent development.\n",
            "\n",
            "However, AI's rapid growth presents significant ethical challenges, including privacy, copyright, algorithmic bias, misinformation, environmental impact, technological unemployment, and potential existential risks. These concerns necessitate careful regulation, the development of ethical frameworks, and ongoing philosophical discourse about defining intelligence and machine consciousness.\n"
          ]
        }
      ]
    },
    {
      "cell_type": "code",
      "source": [],
      "metadata": {
        "id": "drER04tJemln"
      },
      "execution_count": null,
      "outputs": []
    }
  ]
}