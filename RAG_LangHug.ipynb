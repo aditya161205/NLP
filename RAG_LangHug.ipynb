{
  "nbformat": 4,
  "nbformat_minor": 0,
  "metadata": {
    "colab": {
      "provenance": [],
      "gpuType": "T4",
      "include_colab_link": true
    },
    "kernelspec": {
      "name": "python3",
      "display_name": "Python 3"
    },
    "language_info": {
      "name": "python"
    },
    "accelerator": "GPU"
  },
  "cells": [
    {
      "cell_type": "markdown",
      "metadata": {
        "id": "view-in-github",
        "colab_type": "text"
      },
      "source": [
        "<a href=\"https://colab.research.google.com/github/aditya161205/NLP/blob/main/RAG_LangHug.ipynb\" target=\"_parent\"><img src=\"https://colab.research.google.com/assets/colab-badge.svg\" alt=\"Open In Colab\"/></a>"
      ]
    },
    {
      "cell_type": "code",
      "source": [
        "!pip install -q streamlit langchain transformers sentence-transformers faiss-cpu pypdf accelerate langchain-community pyngrok"
      ],
      "metadata": {
        "id": "Dp1K8J5O2FjH"
      },
      "execution_count": 10,
      "outputs": []
    },
    {
      "cell_type": "code",
      "source": [
        "%%writefile app.py\n",
        "import streamlit as st\n",
        "import torch\n",
        "import os\n",
        "import tempfile\n",
        "from langchain_community.document_loaders import PyPDFLoader\n",
        "from langchain.text_splitter import RecursiveCharacterTextSplitter\n",
        "from langchain_community.embeddings import HuggingFaceEmbeddings\n",
        "from langchain_community.vectorstores import FAISS\n",
        "from langchain.llms import HuggingFacePipeline\n",
        "from transformers import AutoTokenizer, AutoModelForSeq2SeqLM, pipeline\n",
        "from langchain.chains import RetrievalQA\n",
        "\n",
        "st.set_page_config(page_title=\"RAG with LangChain & HuggingFace\", layout=\"wide\")\n",
        "\n",
        "st.title(\"Upload and search from PDF\")\n",
        "st.write(\"\"\"\n",
        "This app implements a Retrieval-Augmented Generation (RAG) pipeline to answer questions about your PDF documents.\n",
        "1. **Upload a PDF**: The document is loaded and split into smaller chunks.\n",
        "2. **Create Embeddings**: Text chunks are converted into numerical vectors (embeddings) and stored in a searchable FAISS vector store.\n",
        "3. **Ask a Question**: The app retrieves the most relevant chunks from the document and feeds them, along with your question, to a Large Language Model (LLM) to generate an answer.\n",
        "\"\"\")\n",
        "\n",
        "# --- Model and Tokenizer Caching ---\n",
        "@st.cache_resource\n",
        "def load_llm_and_tokenizer():\n",
        "    \"\"\"Load the LLM and tokenizer, and cache them.\"\"\"\n",
        "    model_id = \"google/flan-t5-base\"\n",
        "\n",
        "    device = \"cuda\" if torch.cuda.is_available() else \"cpu\"\n",
        "    st.info(f\"Using device: {device.upper()}\")\n",
        "\n",
        "    tokenizer = AutoTokenizer.from_pretrained(model_id)\n",
        "    model = AutoModelForSeq2SeqLM.from_pretrained(model_id)\n",
        "\n",
        "    pipe = pipeline(\n",
        "        \"text2text-generation\",\n",
        "        model=model,\n",
        "        tokenizer=tokenizer,\n",
        "        max_new_tokens=512,\n",
        "        device=0 if device == \"cuda\" else -1\n",
        "    )\n",
        "    return HuggingFacePipeline(pipeline=pipe)\n",
        "\n",
        "llm = load_llm_and_tokenizer()\n",
        "\n",
        "@st.cache_resource\n",
        "def load_embedding_model():\n",
        "    \"\"\"Load the embedding model, and cache it.\"\"\"\n",
        "    model_name = \"sentence-transformers/all-mpnet-base-v2\"\n",
        "    device = \"cuda\" if torch.cuda.is_available() else \"cpu\"\n",
        "    model_kwargs = {'device': device}\n",
        "    return HuggingFaceEmbeddings(model_name=model_name, model_kwargs=model_kwargs)\n",
        "\n",
        "embeddings = load_embedding_model()\n",
        "\n",
        "# --- Main App Logic ---\n",
        "st.sidebar.header(\"Controls\")\n",
        "uploaded_file = st.sidebar.file_uploader(\"Upload your PDF document\", type=\"pdf\")\n",
        "\n",
        "if 'vector_store' not in st.session_state:\n",
        "    st.session_state.vector_store = None\n",
        "\n",
        "if uploaded_file:\n",
        "    if st.session_state.vector_store is None:\n",
        "        with st.spinner(\"Processing PDF... This may take a moment.\"):\n",
        "            try:\n",
        "\n",
        "                with tempfile.NamedTemporaryFile(delete=False, suffix=\".pdf\") as tmp_file:\n",
        "                    tmp_file.write(uploaded_file.getvalue())\n",
        "                    tmp_file_path = tmp_file.name\n",
        "\n",
        "\n",
        "                loader = PyPDFLoader(tmp_file_path)\n",
        "                documents = loader.load()\n",
        "\n",
        "\n",
        "                text_splitter = RecursiveCharacterTextSplitter(chunk_size=1000, chunk_overlap=150)\n",
        "                docs = text_splitter.split_documents(documents)\n",
        "\n",
        "                st.session_state.vector_store = FAISS.from_documents(docs, embeddings)\n",
        "\n",
        "                os.remove(tmp_file_path)\n",
        "\n",
        "                st.sidebar.success(f\"PDF processed successfully! Document split into {len(docs)} chunks.\")\n",
        "\n",
        "            except Exception as e:\n",
        "                st.sidebar.error(f\"An error occurred: {e}\")\n",
        "                st.session_state.vector_store = None\n",
        "\n",
        "if st.session_state.vector_store:\n",
        "    st.subheader(\"Ask a question about the document\")\n",
        "\n",
        "    question = st.text_input(\"Enter your question:\", placeholder=\"e.g., What is the main topic of the document?\")\n",
        "\n",
        "    if st.button(\"Get Answer\"):\n",
        "        if question:\n",
        "            with st.spinner(\"Searching for the answer...\"):\n",
        "                try:\n",
        "\n",
        "                    retriever = st.session_state.vector_store.as_retriever()\n",
        "                    chain = RetrievalQA.from_chain_type(llm=llm, chain_type=\"stuff\", retriever=retriever)\n",
        "\n",
        "                    result = chain.run(question)\n",
        "\n",
        "                    st.success(\"Answer:\")\n",
        "                    st.write(result)\n",
        "                except Exception as e:\n",
        "                    st.error(f\"Failed to get answer: {e}\")\n",
        "        else:\n",
        "            st.warning(\"Please enter a question.\")\n",
        "else:\n",
        "    st.info(\"Please upload a PDF file using the sidebar to begin.\")"
      ],
      "metadata": {
        "colab": {
          "base_uri": "https://localhost:8080/"
        },
        "id": "fGjY564l3T-v",
        "outputId": "a3b97639-8ef3-406e-ea56-1d8953aa8baf"
      },
      "execution_count": 11,
      "outputs": [
        {
          "output_type": "stream",
          "name": "stdout",
          "text": [
            "Overwriting app.py\n"
          ]
        }
      ]
    },
    {
      "cell_type": "code",
      "source": [
        "from pyngrok import ngrok\n",
        "import os\n",
        "\n",
        "ngrok.kill()\n",
        "\n",
        "NGROK_AUTH_TOKEN = \"2uwUMcpgBtZaJJ8WJUSR5RIgFuY_3sw1aKiFSaefXhso4yMsP\" #-->paste token\n",
        "if NGROK_AUTH_TOKEN:\n",
        "    ngrok.set_auth_token(NGROK_AUTH_TOKEN)\n",
        "else:\n",
        "    print(\"Consider adding an ngrok authtoken for a more stable connection.\")\n",
        "\n",
        "!nohup streamlit run app.py --server.port 8501 &\n",
        "\n",
        "public_url = ngrok.connect(8501)\n",
        "print(f\"Click this link to view your Streamlit app: {public_url}\")"
      ],
      "metadata": {
        "colab": {
          "base_uri": "https://localhost:8080/"
        },
        "id": "7RbpPQiY3WLI",
        "outputId": "f44bf2f5-6680-4921-820b-efbf5679f49d"
      },
      "execution_count": 12,
      "outputs": [
        {
          "output_type": "stream",
          "name": "stdout",
          "text": [
            "nohup: appending output to 'nohup.out'\n",
            "Click this link to view your Streamlit app: NgrokTunnel: \"https://ff6deabd4fe2.ngrok-free.app\" -> \"http://localhost:8501\"\n"
          ]
        }
      ]
    },
    {
      "cell_type": "code",
      "source": [],
      "metadata": {
        "id": "HUr1feuB3ak1"
      },
      "execution_count": null,
      "outputs": []
    }
  ]
}